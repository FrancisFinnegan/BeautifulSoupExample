{
 "cells": [
  {
   "cell_type": "markdown",
   "metadata": {},
   "source": [
    "## Begin by importing the proper libraries:\n",
    "    1) Requests allows us to retrieve a website.\n",
    "\n",
    "    2) bs4 turns a website into a BeautifulSoup object.\n",
    "\n",
    "    3) openpyxl allow us to manipulate excel files."
   ]
  },
  {
   "cell_type": "code",
   "execution_count": null,
   "metadata": {},
   "outputs": [],
   "source": [
    "import requests as req\n",
    "from bs4 import BeautifulSoup as bsoup\n",
    "import openpyxl as opx"
   ]
  },
  {
   "cell_type": "markdown",
   "metadata": {},
   "source": [
    "The web address we are interested in is the collegiate cycling directory for national mountain bikers. For the sake of example, we are interested in the *school name* and the *conference*.\n",
    "\n",
    "In the following cells, we can see how we traverse from type to type to continually create the object we need to work with. Understanding how object types change, and what you can perform with those objects, is the essence of object oriented programming - it's very important to know what we are working with at all times. I have made that explicitly in the following cells."
   ]
  },
  {
   "cell_type": "code",
   "execution_count": null,
   "metadata": {},
   "outputs": [],
   "source": [
    "res = req.get('https://www.nationalmtb.org/collegiate-cycling-directory/')\n",
    "text = res.content\n",
    "\n",
    "print(f'Variable \"res\" is of type: \\t {type(res)}')\n",
    "print(f'Variable \"text\" is of type: \\t {type(text)}')"
   ]
  },
  {
   "cell_type": "markdown",
   "metadata": {},
   "source": [
    "Now, we make our BeautifulSoup object, passing it a bytes object to parse with html. BeautifulSoup recognizes the html language and allows us to select items within html."
   ]
  },
  {
   "cell_type": "code",
   "execution_count": null,
   "metadata": {},
   "outputs": [],
   "source": [
    "psoup = bsoup(text, 'html.parser')\n",
    "\n",
    "print(f'Variable \"psoup\" is of type: \\t {type(psoup)}')"
   ]
  },
  {
   "cell_type": "markdown",
   "metadata": {},
   "source": [
    "This is where we select exactly what we want from the document. Searching though the source code on the website (which, in Google Chrome, is an option if you right click on the webpage and click \"inspect\"), I was able to identify that the \"td\" items of the \"tbody\" element are precisely what I want.\n",
    "\n",
    "As we can see, we worked our way from a Response object to a list. Lists are fundamental objects that basic python users are very familiar with. They are often one of the basics taught in foundational classes. I worked my to the list to demonstrate how clean and easy this is to do – getting a user to something all python users are comfortable working with."
   ]
  },
  {
   "cell_type": "code",
   "execution_count": null,
   "metadata": {},
   "outputs": [],
   "source": [
    "webpage_content = psoup.select(\"tbody td\")\n",
    "print(f'Variable \"x\" is of type: \\t {type(webpage_content)}')\n",
    "print(f'Length of the list: {len(webpage_content)}')"
   ]
  },
  {
   "cell_type": "markdown",
   "metadata": {},
   "source": [
    "Below, I create a excel workbook and select the sheet onto which I will be placing the items of interest on the website. Since we’re only working with one sheet, I just select the active sheet."
   ]
  },
  {
   "cell_type": "code",
   "execution_count": null,
   "metadata": {
    "scrolled": true
   },
   "outputs": [],
   "source": [
    "wb = opx.Workbook()\n",
    "ws = wb.active\n",
    "\n",
    "print(f'Variable \"wb\" is of type: \\t {type(wb)}')\n",
    "print(f'Variable \"ws\" is of type: \\t {type(ws)}')"
   ]
  },
  {
   "cell_type": "markdown",
   "metadata": {},
   "source": [
    "The final step is placing the contents of the list into the sheet itself. This is completed by iterating through the list, selecting only the items that I want (every 4th and 6th one) and placing them into columns A and B of the excel worksheet. Once the cell has run, an excel workbook called \"cycle\" has been created in the same directory as this notebook."
   ]
  },
  {
   "cell_type": "code",
   "execution_count": null,
   "metadata": {
    "scrolled": true
   },
   "outputs": [],
   "source": [
    "i = 4\n",
    "j = 6\n",
    "\n",
    "iter_up = 1\n",
    "\n",
    "for item in range(len(webpage_content)):\n",
    "    \n",
    "    #Write the content to column A and B in excel\n",
    "    #Breaks the cycle when there is no more content to write\n",
    "    try:\n",
    "        ws[f'A{iter_up}'] = webpage_content[j].text\n",
    "        ws[f'B{iter_up}'] = webpage_content[i].text\n",
    "    except:\n",
    "        break\n",
    "    \n",
    "    i += 4\n",
    "    j += 4\n",
    "    \n",
    "    iter_up += 1\n",
    "    \n",
    "wb.save('cycle.xlsx')\n",
    "wb.close()\n",
    "print('Done')"
   ]
  },
  {
   "cell_type": "markdown",
   "metadata": {},
   "source": [
    "Just for fun, I added a quick demonstration on how easy it is to then read that excel document into a dataframe and manipulate it with pandas."
   ]
  },
  {
   "cell_type": "code",
   "execution_count": null,
   "metadata": {},
   "outputs": [],
   "source": [
    "import pandas as pd\n",
    "from matplotlib import pyplot as plt\n",
    "%matplotlib inline\n",
    "\n",
    "df = pd.read_excel('cycle.xlsx', header = None)\n",
    "df.rename(columns = {0: 'Conference', 1 : 'School'}, inplace = True)\n",
    "df['Conference'].value_counts().sort_values().plot(kind = 'barh');\n",
    "plt.title('Amount of schools in Conference');"
   ]
  },
  {
   "cell_type": "code",
   "execution_count": null,
   "metadata": {},
   "outputs": [],
   "source": []
  }
 ],
 "metadata": {
  "kernelspec": {
   "display_name": "Python 3",
   "language": "python",
   "name": "python3"
  },
  "language_info": {
   "codemirror_mode": {
    "name": "ipython",
    "version": 3
   },
   "file_extension": ".py",
   "mimetype": "text/x-python",
   "name": "python",
   "nbconvert_exporter": "python",
   "pygments_lexer": "ipython3",
   "version": "3.7.4"
  }
 },
 "nbformat": 4,
 "nbformat_minor": 2
}
